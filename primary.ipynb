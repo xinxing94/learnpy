{
 "cells": [
  {
   "cell_type": "code",
   "execution_count": null,
   "metadata": {
    "collapsed": false
   },
   "outputs": [],
   "source": [
    "\"%s, eggs , and %s\" % ('spam','SPMA|')"
   ]
  },
  {
   "cell_type": "code",
   "execution_count": null,
   "metadata": {
    "collapsed": false,
    "scrolled": false
   },
   "outputs": [],
   "source": [
    "import random\n",
    "random.choice([1,2,3])"
   ]
  },
  {
   "cell_type": "code",
   "execution_count": 29,
   "metadata": {
    "collapsed": false
   },
   "outputs": [
    {
     "data": {
      "text/plain": [
       "'pt '"
      ]
     },
     "execution_count": 29,
     "metadata": {},
     "output_type": "execute_result"
    }
   ],
   "source": [
    "import re\n",
    "matchs = re.match('Heel [ \\t]*(.*)aa','Heel pt aa')\n",
    "matchs.group(1)"
   ]
  },
  {
   "cell_type": "code",
   "execution_count": 22,
   "metadata": {
    "collapsed": false
   },
   "outputs": [
    {
     "data": {
      "text/plain": [
       "'aaa\\nbbb\"\"\"bb'"
      ]
     },
     "execution_count": 22,
     "metadata": {},
     "output_type": "execute_result"
    }
   ],
   "source": [
    "msg = '''aaa\n",
    "bbb\"\"\"bb'''\n",
    "msg"
   ]
  },
  {
   "cell_type": "code",
   "execution_count": 26,
   "metadata": {
    "collapsed": false
   },
   "outputs": [
    {
     "name": "stdout",
     "output_type": "stream",
     "text": [
      "a\\nb\n"
     ]
    }
   ],
   "source": [
    "print r'a\\nb'"
   ]
  },
  {
   "cell_type": "code",
   "execution_count": 36,
   "metadata": {
    "collapsed": false
   },
   "outputs": [
    {
     "data": {
      "text/plain": [
       "{'age': 40.5,\n",
       " 'job': ['dev', 'mgs', 'janitor'],\n",
       " 'name': {'first': 'Bob', 'last': 'SMith'}}"
      ]
     },
     "execution_count": 36,
     "metadata": {},
     "output_type": "execute_result"
    }
   ],
   "source": [
    "import test\n",
    "test.rec"
   ]
  },
  {
   "cell_type": "code",
   "execution_count": 37,
   "metadata": {
    "collapsed": false
   },
   "outputs": [
    {
     "name": "stdout",
     "output_type": "stream",
     "text": [
      "a => 1\n",
      "b => 2\n",
      "c => 3\n"
     ]
    }
   ],
   "source": [
    "D={'a':1,'b':2,'c':3}\n",
    "D\n",
    "Ks = list(D.keys())\n",
    "Ks\n",
    "Ks.sort()\n",
    "Ks\n",
    "for key in Ks:\n",
    "    print key,'=>',D[key]"
   ]
  },
  {
   "cell_type": "code",
   "execution_count": 38,
   "metadata": {
    "collapsed": false
   },
   "outputs": [
    {
     "name": "stdout",
     "output_type": "stream",
     "text": [
      "a 1\n",
      "b 2\n",
      "c 3\n"
     ]
    }
   ],
   "source": [
    "D={'a':1,'b':2,'c':3}\n",
    "for key in sorted(D):\n",
    "    print key,D[key]"
   ]
  },
  {
   "cell_type": "markdown",
   "metadata": {
    "collapsed": true
   },
   "source": [
    "#迭代协议 一个在迭代操作情况下每次产生一个元素的对象\n",
    "首先为了简单和可读性去编写代码，在程序可以工作，并证明了确实有必要考虑性能之后，再考虑优化"
   ]
  },
  {
   "cell_type": "code",
   "execution_count": 1,
   "metadata": {
    "collapsed": false
   },
   "outputs": [
    {
     "data": {
      "text/plain": [
       "False"
      ]
     },
     "execution_count": 1,
     "metadata": {},
     "output_type": "execute_result"
    }
   ],
   "source": [
    "D={'a':1, 'b':2, 'c':3}\n",
    "'f' in D"
   ]
  },
  {
   "cell_type": "code",
   "execution_count": 2,
   "metadata": {
    "collapsed": false
   },
   "outputs": [
    {
     "name": "stdout",
     "output_type": "stream",
     "text": [
      "missing\n"
     ]
    }
   ],
   "source": [
    "D={'a':1, 'b':2, 'c':3}\n",
    "if not 'f' in D:\n",
    "    print 'missing'"
   ]
  },
  {
   "cell_type": "code",
   "execution_count": 3,
   "metadata": {
    "collapsed": false
   },
   "outputs": [
    {
     "data": {
      "text/plain": [
       "3"
      ]
     },
     "execution_count": 3,
     "metadata": {},
     "output_type": "execute_result"
    }
   ],
   "source": [
    "value = D.get('c',0) #创建字典并避免获取不存在的字典键，get方法，带有一个默认值的条件索引\n",
    "value"
   ]
  },
  {
   "cell_type": "code",
   "execution_count": 4,
   "metadata": {
    "collapsed": false
   },
   "outputs": [
    {
     "data": {
      "text/plain": [
       "2.5"
      ]
     },
     "execution_count": 4,
     "metadata": {},
     "output_type": "execute_result"
    }
   ],
   "source": [
    "from __future__ import division\n",
    "10/4"
   ]
  },
  {
   "cell_type": "code",
   "execution_count": null,
   "metadata": {
    "collapsed": true
   },
   "outputs": [],
   "source": [
    "oct(64),hex(64),bin(64)"
   ]
  },
  {
   "cell_type": "code",
   "execution_count": 10,
   "metadata": {
    "collapsed": false
   },
   "outputs": [
    {
     "data": {
      "text/plain": [
       "(64, 8, 100, 9)"
      ]
     },
     "execution_count": 10,
     "metadata": {},
     "output_type": "execute_result"
    }
   ],
   "source": [
    "int('64'),int('10',8),int('64',16), int('1001',2) #int函数会将一个数字的字符串变换为一个整数，后面跟相应进制"
   ]
  },
  {
   "cell_type": "code",
   "execution_count": 14,
   "metadata": {
    "collapsed": false
   },
   "outputs": [
    {
     "data": {
      "text/plain": [
       "2.57"
      ]
     },
     "execution_count": 14,
     "metadata": {},
     "output_type": "execute_result"
    }
   ],
   "source": [
    "round(2.567,2)"
   ]
  },
  {
   "cell_type": "code",
   "execution_count": 15,
   "metadata": {
    "collapsed": false
   },
   "outputs": [
    {
     "data": {
      "text/plain": [
       "Decimal('0.3333333333333333333333333333')"
      ]
     },
     "execution_count": 15,
     "metadata": {},
     "output_type": "execute_result"
    }
   ],
   "source": [
    "import decimal \n",
    "decimal.Decimal('1.00')/ decimal.Decimal('3.00')"
   ]
  },
  {
   "cell_type": "code",
   "execution_count": 16,
   "metadata": {
    "collapsed": false
   },
   "outputs": [
    {
     "name": "stdout",
     "output_type": "stream",
     "text": [
      "1/3\n"
     ]
    }
   ],
   "source": [
    "from fractions import Fraction\n",
    "x=Fraction(1,3)\n",
    "print(x)"
   ]
  },
  {
   "cell_type": "code",
   "execution_count": 27,
   "metadata": {
    "collapsed": false
   },
   "outputs": [
    {
     "data": {
      "text/plain": [
       "Decimal('1.00')"
      ]
     },
     "execution_count": 27,
     "metadata": {},
     "output_type": "execute_result"
    }
   ],
   "source": [
    "import decimal\n",
    "#decimal.getcontext().prec =3\n",
    "pay = decimal.Decimal(str(1/3))+decimal.Decimal(str(2/3))\n",
    "pay"
   ]
  },
  {
   "cell_type": "code",
   "execution_count": 28,
   "metadata": {
    "collapsed": false
   },
   "outputs": [
    {
     "data": {
      "text/plain": [
       "Fraction(1, 4)"
      ]
     },
     "execution_count": 28,
     "metadata": {},
     "output_type": "execute_result"
    }
   ],
   "source": [
    "from fractions import Fraction\n",
    "Fraction('.25')"
   ]
  },
  {
   "cell_type": "code",
   "execution_count": 30,
   "metadata": {
    "collapsed": false
   },
   "outputs": [
    {
     "data": {
      "text/plain": [
       "(5, 2)"
      ]
     },
     "execution_count": 30,
     "metadata": {},
     "output_type": "execute_result"
    }
   ],
   "source": [
    "(2.5).as_integer_ratio()"
   ]
  },
  {
   "cell_type": "code",
   "execution_count": 32,
   "metadata": {
    "collapsed": false
   },
   "outputs": [
    {
     "name": "stdout",
     "output_type": "stream",
     "text": [
      "7/4\n"
     ]
    }
   ],
   "source": [
    "Fraction.from_float(1.75)\n",
    "print(Fraction(7/4))"
   ]
  },
  {
   "cell_type": "code",
   "execution_count": 49,
   "metadata": {
    "collapsed": false
   },
   "outputs": [
    {
     "data": {
      "text/plain": [
       "9.0"
      ]
     },
     "execution_count": 49,
     "metadata": {},
     "output_type": "execute_result"
    }
   ],
   "source": [
    "import math\n",
    "round(9.3)"
   ]
  },
  {
   "cell_type": "code",
   "execution_count": 55,
   "metadata": {
    "collapsed": false
   },
   "outputs": [
    {
     "name": "stdout",
     "output_type": "stream",
     "text": [
      "span\n"
     ]
    }
   ],
   "source": [
    "S=\"span\"\n",
    "print S"
   ]
  },
  {
   "cell_type": "code",
   "execution_count": 4,
   "metadata": {
    "collapsed": false
   },
   "outputs": [
    {
     "data": {
      "text/plain": [
       "'\\nimport os \\nprint(os.getcwd())\\n'"
      ]
     },
     "execution_count": 4,
     "metadata": {},
     "output_type": "execute_result"
    }
   ],
   "source": [
    "\"\"\"\n",
    "import os \n",
    "print(os.getcwd())\n",
    "\"\"\""
   ]
  },
  {
   "cell_type": "code",
   "execution_count": 5,
   "metadata": {
    "collapsed": false
   },
   "outputs": [
    {
     "data": {
      "text/plain": [
       "'olh'"
      ]
     },
     "execution_count": 5,
     "metadata": {},
     "output_type": "execute_result"
    }
   ],
   "source": [
    "S= 'hello'\n",
    "S[::-2]"
   ]
  },
  {
   "cell_type": "code",
   "execution_count": 8,
   "metadata": {
    "collapsed": false
   },
   "outputs": [
    {
     "data": {
      "text/plain": [
       "'5432'"
      ]
     },
     "execution_count": 8,
     "metadata": {},
     "output_type": "execute_result"
    }
   ],
   "source": [
    "S='0123456'\n",
    "S[5:1:-1]"
   ]
  },
  {
   "cell_type": "code",
   "execution_count": 9,
   "metadata": {
    "collapsed": false
   },
   "outputs": [
    {
     "name": "stdout",
     "output_type": "stream",
     "text": [
      "   this is string ,,, wow!!!\n"
     ]
    }
   ],
   "source": [
    "s = '   this is string ,,, wow!!!  '\n",
    "print s.rstrip()"
   ]
  },
  {
   "cell_type": "code",
   "execution_count": 12,
   "metadata": {
    "collapsed": false
   },
   "outputs": [
    {
     "name": "stdout",
     "output_type": "stream",
     "text": [
      "8 88 this is string ... wow!!!0\n"
     ]
    }
   ],
   "source": [
    "s = '8 88 this is string ... wow!!!08888'\n",
    "print s.rstrip('8')"
   ]
  },
  {
   "cell_type": "code",
   "execution_count": 14,
   "metadata": {
    "collapsed": false
   },
   "outputs": [
    {
     "data": {
      "text/plain": [
       "(\"'43'\", 42, '42')"
      ]
     },
     "execution_count": 14,
     "metadata": {},
     "output_type": "execute_result"
    }
   ],
   "source": [
    "repr('43'),int('42'),str(42)\n",
    "# eval函数，将运行一个包含了Python表达式代码的字符串，将一个字符串转换为任意类型的对象"
   ]
  },
  {
   "cell_type": "code",
   "execution_count": 15,
   "metadata": {
    "collapsed": false
   },
   "outputs": [
    {
     "data": {
      "text/plain": [
       "'0b1101'"
      ]
     },
     "execution_count": 15,
     "metadata": {},
     "output_type": "execute_result"
    }
   ],
   "source": [
    "int('1101',2)\n",
    "bin(13)"
   ]
  },
  {
   "cell_type": "code",
   "execution_count": 19,
   "metadata": {
    "collapsed": false
   },
   "outputs": [
    {
     "data": {
      "text/plain": [
       "13"
      ]
     },
     "execution_count": 19,
     "metadata": {},
     "output_type": "execute_result"
    }
   ],
   "source": [
    "B='1101'\n",
    "I=0\n",
    "while B!='':\n",
    "    I = I*2 +(ord(B[0])-ord('0'))\n",
    "    B = B[1:]\n",
    "I"
   ]
  },
  {
   "cell_type": "code",
   "execution_count": 21,
   "metadata": {
    "collapsed": false
   },
   "outputs": [
    {
     "data": {
      "text/plain": [
       "'SPAaaaN'"
      ]
     },
     "execution_count": 21,
     "metadata": {},
     "output_type": "execute_result"
    }
   ],
   "source": [
    "S = \"SPAN\"\n",
    "S = S[:3]+'aaa'+S[-1]\n",
    "S"
   ]
  },
  {
   "cell_type": "code",
   "execution_count": 22,
   "metadata": {
    "collapsed": false
   },
   "outputs": [
    {
     "data": {
      "text/plain": [
       "'SPBBBaaN'"
      ]
     },
     "execution_count": 22,
     "metadata": {},
     "output_type": "execute_result"
    }
   ],
   "source": [
    "S = \"SPAN\"\n",
    "S = S[:3]+'aaa'+S[-1]\n",
    "S = S.replace('Aa','BBB')\n",
    "S"
   ]
  },
  {
   "cell_type": "code",
   "execution_count": 23,
   "metadata": {
    "collapsed": false
   },
   "outputs": [
    {
     "data": {
      "text/plain": [
       "'This is 1 dead bird'"
      ]
     },
     "execution_count": 23,
     "metadata": {},
     "output_type": "execute_result"
    }
   ],
   "source": [
    "'This is %d %s bird' % (1,'dead')"
   ]
  },
  {
   "cell_type": "code",
   "execution_count": 24,
   "metadata": {
    "collapsed": false
   },
   "outputs": [
    {
     "data": {
      "text/plain": [
       "'This is 1 2 bird'"
      ]
     },
     "execution_count": 24,
     "metadata": {},
     "output_type": "execute_result"
    }
   ],
   "source": [
    "'This is {0} {1} bird'.format(1,2)"
   ]
  },
  {
   "cell_type": "code",
   "execution_count": 25,
   "metadata": {
    "collapsed": false
   },
   "outputs": [
    {
     "data": {
      "text/plain": [
       "2"
      ]
     },
     "execution_count": 25,
     "metadata": {},
     "output_type": "execute_result"
    }
   ],
   "source": [
    "S = 'xxPassxxPassxx'\n",
    "where = S.find('Pass')\n",
    "where"
   ]
  },
  {
   "cell_type": "code",
   "execution_count": 26,
   "metadata": {
    "collapsed": false
   },
   "outputs": [
    {
     "data": {
      "text/plain": [
       "'xxhhhhhxxPassxx'"
      ]
     },
     "execution_count": 26,
     "metadata": {},
     "output_type": "execute_result"
    }
   ],
   "source": [
    "S = 'xxPassxxPassxx'\n",
    "where = S.find('Pass')\n",
    "S = S[:where]+'hhhhh'+S[where+4:]\n",
    "S"
   ]
  },
  {
   "cell_type": "code",
   "execution_count": 27,
   "metadata": {
    "collapsed": false
   },
   "outputs": [
    {
     "data": {
      "text/plain": [
       "'xxhhhhhxxhhhhhxxPass'"
      ]
     },
     "execution_count": 27,
     "metadata": {},
     "output_type": "execute_result"
    }
   ],
   "source": [
    "S = 'xxPassxxPassxxPass'\n",
    "S = S.replace(\"Pass\",'hhhhh',2) #replace 2个\n",
    "S"
   ]
  },
  {
   "cell_type": "code",
   "execution_count": 28,
   "metadata": {
    "collapsed": false
   },
   "outputs": [
    {
     "data": {
      "text/plain": [
       "['s', 'p', 'a', 'm', 'm', 'y']"
      ]
     },
     "execution_count": 28,
     "metadata": {},
     "output_type": "execute_result"
    }
   ],
   "source": [
    "S = 'spammy'\n",
    "L = list(S)\n",
    "L"
   ]
  },
  {
   "cell_type": "code",
   "execution_count": 31,
   "metadata": {
    "collapsed": false
   },
   "outputs": [
    {
     "name": "stdout",
     "output_type": "stream",
     "text": [
      "Hpajmy\n"
     ]
    }
   ],
   "source": [
    "S = 'spammy'\n",
    "L = list(S)\n",
    "L[0]='H'\n",
    "L[3]='j'\n",
    "S = ''.join(L) # 字符串方法join将列表合成为一个字符串\n",
    "print S"
   ]
  },
  {
   "cell_type": "code",
   "execution_count": 32,
   "metadata": {
    "collapsed": false
   },
   "outputs": [
    {
     "data": {
      "text/plain": [
       "'AppleSpamPearSpamPurple'"
      ]
     },
     "execution_count": 32,
     "metadata": {},
     "output_type": "execute_result"
    }
   ],
   "source": [
    "'Spam'.join(['Apple','Pear','Purple']) #join将列表字符串连在一起，并用分隔符隔开"
   ]
  },
  {
   "cell_type": "code",
   "execution_count": 33,
   "metadata": {
    "collapsed": false
   },
   "outputs": [
    {
     "data": {
      "text/plain": [
       "['11', '22', '33']"
      ]
     },
     "execution_count": 33,
     "metadata": {},
     "output_type": "execute_result"
    }
   ],
   "source": [
    "line = 'aaa bb ccc'\n",
    "cols = line.split()\n",
    "cols\n",
    "line2='11,22,33'\n",
    "line2.split(',')"
   ]
  },
  {
   "cell_type": "code",
   "execution_count": 36,
   "metadata": {
    "collapsed": false
   },
   "outputs": [
    {
     "data": {
      "text/plain": [
       "['xx', 'hhhxx', 'hhxx', 'ass']"
      ]
     },
     "execution_count": 36,
     "metadata": {},
     "output_type": "execute_result"
    }
   ],
   "source": [
    "s='xxPPAhhhxxPPAhhxxPPAass'\n",
    "s.split('PPA')"
   ]
  },
  {
   "cell_type": "code",
   "execution_count": 38,
   "metadata": {
    "collapsed": false
   },
   "outputs": [
    {
     "data": {
      "text/plain": [
       "True"
      ]
     },
     "execution_count": 38,
     "metadata": {},
     "output_type": "execute_result"
    }
   ],
   "source": [
    "s = 'aaass'\n",
    "s.isalpha()"
   ]
  },
  {
   "cell_type": "code",
   "execution_count": 54,
   "metadata": {
    "collapsed": false
   },
   "outputs": [
    {
     "name": "stdout",
     "output_type": "stream",
     "text": [
      "itegers : 111  223   进行6位左对齐格式化， 00333 进行5位补零的格式化\n"
     ]
    }
   ],
   "source": [
    "#  coding:gb2312 \n",
    "x = 1234\n",
    "res =u\"itegers : %d  %-6d进行6位左对齐格式化， %05d 进行5位补零的格式化\" %(111,223,333)\n",
    "print res"
   ]
  },
  {
   "cell_type": "code",
   "execution_count": 58,
   "metadata": {
    "collapsed": false
   },
   "outputs": [
    {
     "data": {
      "text/plain": [
       "'1.234568e+00  | 1.234568  | 1.23457  |+001.2'"
      ]
     },
     "execution_count": 58,
     "metadata": {},
     "output_type": "execute_result"
    }
   ],
   "source": [
    "x = 1.2345678\n",
    "'%e  | %f  | %g  |%+06.1f'%(x,x,x,x)"
   ]
  },
  {
   "cell_type": "code",
   "execution_count": 59,
   "metadata": {
    "collapsed": false
   },
   "outputs": [
    {
     "data": {
      "text/plain": [
       "'0.333333,0.33, 0.3333'"
      ]
     },
     "execution_count": 59,
     "metadata": {},
     "output_type": "execute_result"
    }
   ],
   "source": [
    "'%f,%.2f, %.*f' %(1/3.0,1/3.0, 4,1/3.0) #用*来指定计算得出的width和percesion\n",
    "#从而迫使她们的值从%运算符右边的输出的下一项获取，这里的4指定为precision"
   ]
  },
  {
   "cell_type": "code",
   "execution_count": 61,
   "metadata": {
    "collapsed": false
   },
   "outputs": [
    {
     "name": "stdout",
     "output_type": "stream",
     "text": [
      "Greeting! Hello bob,Your age is 20\n"
     ]
    }
   ],
   "source": [
    "reply = \"Greeting! Hello %(name)s,Your age is %(age)s\"\n",
    "v = {\"name\":\"bob\",\"age\":20}\n",
    "print(reply % v)"
   ]
  },
  {
   "cell_type": "code",
   "execution_count": null,
   "metadata": {
    "collapsed": false
   },
   "outputs": [],
   "source": [
    "food = 'spam'\n",
    "age =20\n",
    "vars() #内置函数,返回的字典包含了所有在本函数调用时存在的变量"
   ]
  },
  {
   "cell_type": "code",
   "execution_count": 63,
   "metadata": {
    "collapsed": false
   },
   "outputs": [
    {
     "data": {
      "text/plain": [
       "'20 spam'"
      ]
     },
     "execution_count": 63,
     "metadata": {},
     "output_type": "execute_result"
    }
   ],
   "source": [
    "\"%(age)d %(food)s\" % vars()"
   ]
  },
  {
   "cell_type": "code",
   "execution_count": 67,
   "metadata": {
    "collapsed": false
   },
   "outputs": [
    {
     "data": {
      "text/plain": [
       "'hhh, ham, and [1, 2]'"
      ]
     },
     "execution_count": 67,
     "metadata": {},
     "output_type": "execute_result"
    }
   ],
   "source": [
    "template ='{moto}, {0}, and {yes}'\n",
    "template.format('ham', moto=\"hhh\",yes=[1,2])"
   ]
  },
  {
   "cell_type": "code",
   "execution_count": 68,
   "metadata": {
    "collapsed": false
   },
   "outputs": [
    {
     "data": {
      "text/plain": [
       "['hhh, ham,', '[1, 2]']"
      ]
     },
     "execution_count": 68,
     "metadata": {},
     "output_type": "execute_result"
    }
   ],
   "source": [
    "template ='{moto}, {0}, and {yes}'.format('ham', moto=\"hhh\",yes=[1,2])\n",
    "template.split(' and ')"
   ]
  },
  {
   "cell_type": "code",
   "execution_count": 69,
   "metadata": {
    "collapsed": false
   },
   "outputs": [
    {
     "data": {
      "text/plain": [
       "'My laptop runs win32'"
      ]
     },
     "execution_count": 69,
     "metadata": {},
     "output_type": "execute_result"
    }
   ],
   "source": [
    "import sys\n",
    "'My {1[spam]} runs {0.platform}'.format(sys, {'spam':'laptop'})"
   ]
  },
  {
   "cell_type": "code",
   "execution_count": 70,
   "metadata": {
    "collapsed": false
   },
   "outputs": [
    {
     "data": {
      "text/plain": [
       "'My laptop runs win32'"
      ]
     },
     "execution_count": 70,
     "metadata": {},
     "output_type": "execute_result"
    }
   ],
   "source": [
    "import sys\n",
    "'My {con[spam]} runs {sys.platform}'.format(sys=sys, con={'spam':'laptop'})"
   ]
  },
  {
   "cell_type": "code",
   "execution_count": 71,
   "metadata": {
    "collapsed": false
   },
   "outputs": [
    {
     "data": {
      "text/plain": [
       "'first =S, third=A'"
      ]
     },
     "execution_count": 71,
     "metadata": {},
     "output_type": "execute_result"
    }
   ],
   "source": [
    "somelist = list('SPAM')\n",
    "'first ={0[0]}, third={0[2]}'.format(somelist)"
   ]
  },
  {
   "cell_type": "code",
   "execution_count": 72,
   "metadata": {
    "collapsed": false
   },
   "outputs": [
    {
     "data": {
      "text/plain": [
       "'first =S, tird=A'"
      ]
     },
     "execution_count": 72,
     "metadata": {},
     "output_type": "execute_result"
    }
   ],
   "source": [
    "somelist = list('SPAM')\n",
    "'first ={0}, tird={1}'.format(somelist[0],somelist[-2])"
   ]
  },
  {
   "cell_type": "code",
   "execution_count": 73,
   "metadata": {
    "collapsed": false
   },
   "outputs": [
    {
     "data": {
      "text/plain": [
       "\"first =W, slice=['P', 'A']\""
      ]
     },
     "execution_count": 73,
     "metadata": {},
     "output_type": "execute_result"
    }
   ],
   "source": [
    "somelist = list('SPAMQW')\n",
    "parts = somelist[-1],somelist[1:3]\n",
    "'first ={0}, slice={1}'.format(*parts)"
   ]
  },
  {
   "cell_type": "code",
   "execution_count": 74,
   "metadata": {
    "collapsed": false
   },
   "outputs": [
    {
     "data": {
      "text/plain": [
       "'spam      |=|    123.22'"
      ]
     },
     "execution_count": 74,
     "metadata": {},
     "output_type": "execute_result"
    }
   ],
   "source": [
    "'{0:10}|=|{1:>10}'.format('spam',123.22)#{0:10}第一个位置参数有一个10字符宽的字段\n",
    "#{1:>10}第2个位置参数有一个10字符宽字段，右对齐，^ 表示居中对齐，=表示一个标记字符后的补充"
   ]
  },
  {
   "cell_type": "code",
   "execution_count": 76,
   "metadata": {
    "collapsed": false
   },
   "outputs": [
    {
     "data": {
      "text/plain": [
       "'  win32   |=|      lamp'"
      ]
     },
     "execution_count": 76,
     "metadata": {},
     "output_type": "execute_result"
    }
   ],
   "source": [
    "import sys #{0.platform:^10}表示第一个位置字段的platform属性。。\n",
    "'{0.platform:^10}|=|{1[item]:>10}'.format(sys,dict(item='lamp'))"
   ]
  },
  {
   "cell_type": "code",
   "execution_count": 78,
   "metadata": {
    "collapsed": false
   },
   "outputs": [
    {
     "data": {
      "text/plain": [
       "'3.141590,3.142e+00,3.14159, 003.14'"
      ]
     },
     "execution_count": 78,
     "metadata": {},
     "output_type": "execute_result"
    }
   ],
   "source": [
    "'{0:f},{1:.3e},{2:g}, {3:06.2f}'.format(3.14159,3.14159,3.14159,3.14159)\n",
    "#{2:g}表示第3个位置参数默认根据”g“浮点数表示格式化"
   ]
  },
  {
   "cell_type": "code",
   "execution_count": 79,
   "metadata": {
    "collapsed": false
   },
   "outputs": [
    {
     "data": {
      "text/plain": [
       "'FF,377,11111111'"
      ]
     },
     "execution_count": 79,
     "metadata": {},
     "output_type": "execute_result"
    }
   ],
   "source": [
    "'{0:X},{1:o},{2:b}'.format(255,255,255)"
   ]
  },
  {
   "cell_type": "code",
   "execution_count": 81,
   "metadata": {
    "collapsed": false
   },
   "outputs": [
    {
     "data": {
      "text/plain": [
       "('0b11111111', 255, 255, '0xff', '011')"
      ]
     },
     "execution_count": 81,
     "metadata": {},
     "output_type": "execute_result"
    }
   ],
   "source": [
    "bin(255),int('ff',16),0o377, hex(255),oct(9)"
   ]
  },
  {
   "cell_type": "code",
   "execution_count": 82,
   "metadata": {
    "collapsed": false
   },
   "outputs": [
    {
     "data": {
      "text/plain": [
       "'0.3333'"
      ]
     },
     "execution_count": 82,
     "metadata": {},
     "output_type": "execute_result"
    }
   ],
   "source": [
    "'{0:.{1}f}'.format(1/3.0,4)"
   ]
  },
  {
   "cell_type": "code",
   "execution_count": 83,
   "metadata": {
    "collapsed": false
   },
   "outputs": [
    {
     "data": {
      "text/plain": [
       "'0.3333'"
      ]
     },
     "execution_count": 83,
     "metadata": {},
     "output_type": "execute_result"
    }
   ],
   "source": [
    "'%.*f' %(4, 1/3.0)"
   ]
  },
  {
   "cell_type": "code",
   "execution_count": 84,
   "metadata": {
    "collapsed": false
   },
   "outputs": [
    {
     "data": {
      "text/plain": [
       "[115, 112, 97, 109]"
      ]
     },
     "execution_count": 84,
     "metadata": {},
     "output_type": "execute_result"
    }
   ],
   "source": [
    "list(map(ord,'spam'))"
   ]
  },
  {
   "cell_type": "code",
   "execution_count": 89,
   "metadata": {
    "collapsed": false
   },
   "outputs": [
    {
     "data": {
      "text/plain": [
       "['aBe', 'ABD', 'abc', '1gvd']"
      ]
     },
     "execution_count": 89,
     "metadata": {},
     "output_type": "execute_result"
    }
   ],
   "source": [
    "L = ['abc','ABD','aBe','1gvd'] #所有整数小于字符串\n",
    "L.sort(key=str.lower,reverse=True)\n",
    "L\n",
    "#使用key=func关键字参数在排序时编码的转换，并且使用reverse=True关键字参数把顺序改为降序"
   ]
  },
  {
   "cell_type": "code",
   "execution_count": 90,
   "metadata": {
    "collapsed": false
   },
   "outputs": [
    {
     "data": {
      "text/plain": [
       "['abe', 'abd', 'abc', '1gvd']"
      ]
     },
     "execution_count": 90,
     "metadata": {},
     "output_type": "execute_result"
    }
   ],
   "source": [
    "L = ['abc','ABD','aBe','1gvd']\n",
    "sorted([x.lower() for x in L], reverse=True)"
   ]
  },
  {
   "cell_type": "code",
   "execution_count": 98,
   "metadata": {
    "collapsed": false
   },
   "outputs": [
    {
     "data": {
      "text/plain": [
       "[1, 2, 4]"
      ]
     },
     "execution_count": 98,
     "metadata": {},
     "output_type": "execute_result"
    }
   ],
   "source": [
    "L=[1,2]\n",
    "L.extend([3,4,5])\n",
    "L.pop()\n",
    "L.reverse()\n",
    "L.pop(1)\n",
    "list(reversed(L)) #reversed内置函数必须包装在一个list调用中，因为它是个迭代器\n"
   ]
  },
  {
   "cell_type": "code",
   "execution_count": 100,
   "metadata": {
    "collapsed": false
   },
   "outputs": [
    {
     "data": {
      "text/plain": [
       "['toast', 'ham']"
      ]
     },
     "execution_count": 100,
     "metadata": {},
     "output_type": "execute_result"
    }
   ],
   "source": [
    "L=['spam','eggs','ham']\n",
    "L.index('eggs')\n",
    "L.insert(1,'toast')\n",
    "L.remove('eggs')\n",
    "del L[0]\n",
    "L"
   ]
  },
  {
   "cell_type": "code",
   "execution_count": 106,
   "metadata": {
    "collapsed": false
   },
   "outputs": [
    {
     "data": {
      "text/plain": [
       "['1', '3', '6']"
      ]
     },
     "execution_count": 106,
     "metadata": {},
     "output_type": "execute_result"
    }
   ],
   "source": [
    "D={'1':'aa',\"2\":'bb','3':'cc'}\n",
    "D.has_key('4')\n",
    "del D['2']\n",
    "D['6']='FF'\n",
    "D.keys() #返回的是一个迭代器"
   ]
  },
  {
   "cell_type": "code",
   "execution_count": 107,
   "metadata": {
    "collapsed": false
   },
   "outputs": [
    {
     "data": {
      "text/plain": [
       "['aa', 'cc', 'bb']"
      ]
     },
     "execution_count": 107,
     "metadata": {},
     "output_type": "execute_result"
    }
   ],
   "source": [
    "D={'1':'aa',\"2\":'bb','3':'cc'}\n",
    "list(D.values())"
   ]
  },
  {
   "cell_type": "code",
   "execution_count": 108,
   "metadata": {
    "collapsed": false
   },
   "outputs": [
    {
     "data": {
      "text/plain": [
       "[('1', 'aa'), ('3', 'cc'), ('2', 'bb')]"
      ]
     },
     "execution_count": 108,
     "metadata": {},
     "output_type": "execute_result"
    }
   ],
   "source": [
    "D={'1':'aa',\"2\":'bb','3':'cc'}\n",
    "list(D.items())"
   ]
  },
  {
   "cell_type": "code",
   "execution_count": 109,
   "metadata": {
    "collapsed": false
   },
   "outputs": [
    {
     "name": "stdout",
     "output_type": "stream",
     "text": [
      "None\n"
     ]
    }
   ],
   "source": [
    "D={'1':'aa',\"2\":'bb','3':'cc'}\n",
    "print(D.get('t'))"
   ]
  },
  {
   "cell_type": "code",
   "execution_count": 110,
   "metadata": {
    "collapsed": false
   },
   "outputs": [
    {
     "data": {
      "text/plain": [
       "88"
      ]
     },
     "execution_count": 110,
     "metadata": {},
     "output_type": "execute_result"
    }
   ],
   "source": [
    "D={'1':'aa',\"2\":'bb','3':'cc'}\n",
    "D.get('4',88)"
   ]
  },
  {
   "cell_type": "code",
   "execution_count": 115,
   "metadata": {
    "collapsed": false
   },
   "outputs": [
    {
     "data": {
      "text/plain": [
       "{'1': 'aa', '2': 'bb', '3': 'dd', '5': 'ee'}"
      ]
     },
     "execution_count": 115,
     "metadata": {},
     "output_type": "execute_result"
    }
   ],
   "source": [
    "D={'1':'aa',\"2\":'bb','3':'cc','t':'tt'}\n",
    "D2 = {'3':'dd','5':'ee'}\n",
    "D.pop('t')\n",
    "D.update(D2) #将一个字典的键和值合并到另一个字典中，盲目覆盖相同的键值\n",
    "D"
   ]
  },
  {
   "cell_type": "code",
   "execution_count": 116,
   "metadata": {
    "collapsed": false
   },
   "outputs": [
    {
     "name": "stdout",
     "output_type": "stream",
     "text": [
      "Python \tGuido van Rossum\n",
      "tel \tJohn Outer\n",
      "perl \tLArry wall\n"
     ]
    }
   ],
   "source": [
    "table = {'Python': 'Guido van Rossum',\n",
    "         'perl':'LArry wall',\n",
    "         'tel':'John Outer'}\n",
    "for lang in table: #same as \"for lang in table.keys()\"\n",
    "    print lang,'\\t',table[lang]"
   ]
  },
  {
   "cell_type": "code",
   "execution_count": 117,
   "metadata": {
    "collapsed": false
   },
   "outputs": [
    {
     "data": {
      "text/plain": [
       "{'A': 'aa', 'B': 'bb'}"
      ]
     },
     "execution_count": 117,
     "metadata": {},
     "output_type": "execute_result"
    }
   ],
   "source": [
    "#1) D={} D['A']='aa',D['B']=bb\n",
    "#2) 这种方式的键必须都是字符串\n",
    "dict(A='aa',B='bb')\n",
    "#3)dict([('A','aa'),('B','bb')]) ，常与zip函数一起用，将程序运行时动态获取的键和值的不同列表合并在一起"
   ]
  },
  {
   "cell_type": "code",
   "execution_count": 119,
   "metadata": {
    "collapsed": false
   },
   "outputs": [
    {
     "data": {
      "text/plain": [
       "{'a': 88, 'b': 88}"
      ]
     },
     "execution_count": 119,
     "metadata": {},
     "output_type": "execute_result"
    }
   ],
   "source": [
    "dict.fromkeys(['a','b'],88) #简单传入一个键值列表，所有键的初始值设为88"
   ]
  },
  {
   "cell_type": "code",
   "execution_count": 121,
   "metadata": {
    "collapsed": false
   },
   "outputs": [
    {
     "data": {
      "text/plain": [
       "{'a': 1, 'b': 2, 'c': 3}"
      ]
     },
     "execution_count": 121,
     "metadata": {},
     "output_type": "execute_result"
    }
   ],
   "source": [
    "list(zip(['a','b','c'],[1,2,3]))\n",
    "D=dict(zip(['a','b','c'],[1,2,3]))\n",
    "D"
   ]
  },
  {
   "cell_type": "code",
   "execution_count": 122,
   "metadata": {
    "collapsed": false
   },
   "outputs": [
    {
     "data": {
      "text/plain": [
       "{'a': 1, 'b': 2, 'c': 3}"
      ]
     },
     "execution_count": 122,
     "metadata": {},
     "output_type": "execute_result"
    }
   ],
   "source": [
    "D ={k: v for (k,v) in (zip(['a','b','c'],[1,2,3]))}\n",
    "D"
   ]
  },
  {
   "cell_type": "code",
   "execution_count": 123,
   "metadata": {
    "collapsed": false
   },
   "outputs": [
    {
     "data": {
      "text/plain": [
       "{1: 1, 2: 4, 3: 9, 4: 16}"
      ]
     },
     "execution_count": 123,
     "metadata": {},
     "output_type": "execute_result"
    }
   ],
   "source": [
    "D= {x:x**2 for x in[1,2,3,4]}\n",
    "D"
   ]
  },
  {
   "cell_type": "code",
   "execution_count": 124,
   "metadata": {
    "collapsed": false
   },
   "outputs": [
    {
     "data": {
      "text/plain": [
       "{'a': 0, 'b': 0, 'c': 0}"
      ]
     },
     "execution_count": 124,
     "metadata": {},
     "output_type": "execute_result"
    }
   ],
   "source": [
    "D = {k:0 for k in ['a','b','c']} # 与D=dict.fromkeys(['a','b','c'],0)一样\n",
    "D"
   ]
  },
  {
   "cell_type": "code",
   "execution_count": 22,
   "metadata": {
    "collapsed": false
   },
   "outputs": [
    {
     "data": {
      "text/plain": [
       "0"
      ]
     },
     "execution_count": 22,
     "metadata": {},
     "output_type": "execute_result"
    }
   ],
   "source": [
    "T = ('a','b','c','a','b','a','c')\n",
    "T.index('a')"
   ]
  },
  {
   "cell_type": "code",
   "execution_count": 24,
   "metadata": {
    "collapsed": true
   },
   "outputs": [],
   "source": [
    "myfile = open(r'D:\\spam.txt','w')\n",
    "myfile.write('hello,file\\n')\n",
    "myfile.write('yes,it is!\\n')\n",
    "myfile.close()"
   ]
  },
  {
   "cell_type": "code",
   "execution_count": 26,
   "metadata": {
    "collapsed": false
   },
   "outputs": [
    {
     "data": {
      "text/plain": [
       "''"
      ]
     },
     "execution_count": 26,
     "metadata": {},
     "output_type": "execute_result"
    }
   ],
   "source": [
    "myfile = open(r'D:\\spam.txt','r')\n",
    "myfile.readline()\n",
    "myfile.readline()\n",
    "myfile.readline() #''表示已经到达文件的底部"
   ]
  },
  {
   "cell_type": "code",
   "execution_count": 27,
   "metadata": {
    "collapsed": false
   },
   "outputs": [
    {
     "name": "stdout",
     "output_type": "stream",
     "text": [
      "hello,file\n",
      "yes,it is!\n",
      "\n"
     ]
    }
   ],
   "source": [
    "print(open(r'D:\\spam.txt','r').read())"
   ]
  },
  {
   "cell_type": "code",
   "execution_count": 32,
   "metadata": {
    "collapsed": false
   },
   "outputs": [
    {
     "name": "stdout",
     "output_type": "stream",
     "text": [
      "hello,file\n",
      "yes,it is!\n"
     ]
    }
   ],
   "source": [
    "for line in open(r'D:\\spam.txt'):\n",
    "    print line,  #print line"
   ]
  },
  {
   "cell_type": "code",
   "execution_count": 35,
   "metadata": {
    "collapsed": false
   },
   "outputs": [],
   "source": [
    "X,Y,Z=1,2,3\n",
    "S='SPAM'\n",
    "D={'A':1,'B':2}\n",
    "L=['W'',E','R']\n",
    "myfile = open(r'D:\\spam.txt','w') #必须在写入前做字符串转换工作\n",
    "myfile.write(S+'\\n')\n",
    "myfile.write('%s,%s,%s\\n' % (X,Y,Z))\n",
    "myfile.write(str(L)+ '$'+str(D)+'\\n')\n",
    "myfile.close()"
   ]
  },
  {
   "cell_type": "code",
   "execution_count": 40,
   "metadata": {
    "collapsed": false
   },
   "outputs": [
    {
     "data": {
      "text/plain": [
       "[1, 2, 3]"
      ]
     },
     "execution_count": 40,
     "metadata": {},
     "output_type": "execute_result"
    }
   ],
   "source": [
    "F = open(r'D:\\spam.txt')\n",
    "line1 = F.readline()\n",
    "line1.rstrip()\n",
    "line2 = F.readline()\n",
    "parts = line2.split(',')\n",
    "parts\n",
    "int(parts[1])\n",
    "num = [int(P) for P in parts] #int 和一些方法可以忽略数字旁边的空白\n",
    "num"
   ]
  },
  {
   "cell_type": "code",
   "execution_count": 45,
   "metadata": {
    "collapsed": false
   },
   "outputs": [
    {
     "data": {
      "text/plain": [
       "[['W,E', 'R'], {'A': 1, 'B': 2}]"
      ]
     },
     "execution_count": 45,
     "metadata": {},
     "output_type": "execute_result"
    }
   ],
   "source": [
    "F = open(r'D:\\spam.txt')\n",
    "line1 = F.readline()\n",
    "line2 = F.readline()\n",
    "line3 = F.readline()\n",
    "parts =line3.split('$')\n",
    "parts \n",
    "eval(parts[0]) # eval可以将字符串转当做可执行的程序代码,转换成对象\n",
    "obj = [eval(s) for s in parts]\n",
    "obj"
   ]
  },
  {
   "cell_type": "code",
   "execution_count": 57,
   "metadata": {
    "collapsed": false,
    "scrolled": true
   },
   "outputs": [
    {
     "data": {
      "text/plain": [
       "{'A': 1, 'B': 2}"
      ]
     },
     "execution_count": 57,
     "metadata": {},
     "output_type": "execute_result"
    }
   ],
   "source": [
    "D={'A':1,'B':2}\n",
    "F = open(r'D:\\stamp.txt','wb') #或者stamp.pkl\n",
    "import pickle \n",
    "pickle.dump(D,F) #将对象dump进文件里\n",
    "F.flush()\n",
    "F = open(r'D:\\stamp.txt','rb')\n",
    "E = pickle.load(F) #从文件中加载对象\n",
    "E\n",
    "#open(r'D:\\stamp.txt','rb').read()"
   ]
  },
  {
   "cell_type": "code",
   "execution_count": null,
   "metadata": {
    "collapsed": true
   },
   "outputs": [],
   "source": [
    "#不懂 struct\n",
    "F = open(r'D:\\data.bin','wb')\n",
    "import struct\n",
    "data = struct.pack('s','ttttt')\n",
    "F.write(data)\n",
    "F.close()\n",
    "v = struct.unpack('s',data)\n",
    "v"
   ]
  },
  {
   "cell_type": "code",
   "execution_count": 64,
   "metadata": {
    "collapsed": false
   },
   "outputs": [
    {
     "data": {
      "text/plain": [
       "(True, False)"
      ]
     },
     "execution_count": 64,
     "metadata": {},
     "output_type": "execute_result"
    }
   ],
   "source": [
    "L1 =[1,('a',3)]\n",
    "L2 =[1,('a',3)]\n",
    "L1==L2, L1 is L2 #==测试值的相等性，is测试对象的一致性，是否在同一个内存地址\n",
    "#但注意Python内部暂时储存并重复使用短字符串作为最佳化，而长一点的字符串则不是了"
   ]
  },
  {
   "cell_type": "code",
   "execution_count": 69,
   "metadata": {
    "collapsed": false
   },
   "outputs": [
    {
     "data": {
      "text/plain": [
       "True"
      ]
     },
     "execution_count": 69,
     "metadata": {},
     "output_type": "execute_result"
    }
   ],
   "source": [
    "D1 ={'A':1,'B':2}\n",
    "D2 ={'A':1,'B':3}\n",
    "D1==D2\n",
    "sorted(D1.items())\n",
    "sorted(D1.items())<sorted(D2.items())"
   ]
  },
  {
   "cell_type": "code",
   "execution_count": 70,
   "metadata": {
    "collapsed": false
   },
   "outputs": [
    {
     "data": {
      "text/plain": [
       "True"
      ]
     },
     "execution_count": 70,
     "metadata": {},
     "output_type": "execute_result"
    }
   ],
   "source": [
    "type([1]) == list #isinstance函数进行类型测试"
   ]
  },
  {
   "cell_type": "code",
   "execution_count": 72,
   "metadata": {
    "collapsed": false
   },
   "outputs": [
    {
     "data": {
      "text/plain": [
       "[[4, 5, 6], [4, 5, 6], [4, 5, 6], [4, 5, 6]]"
      ]
     },
     "execution_count": 72,
     "metadata": {},
     "output_type": "execute_result"
    }
   ],
   "source": [
    "L = [4,5,6]\n",
    "X = L*4 #只是赋值了内容，Like [4,5,6]+[4,5,6]+...\n",
    "Y =[L]*4 #L在此重复中是嵌套的，[L]+[L]+...=[L,L,...]\n",
    "X\n",
    "Y"
   ]
  },
  {
   "cell_type": "code",
   "execution_count": 75,
   "metadata": {
    "collapsed": false
   },
   "outputs": [
    {
     "data": {
      "text/plain": [
       "[[4, 0, 6], [4, 0, 6], [4, 0, 6], [4, 0, 6]]"
      ]
     },
     "execution_count": 75,
     "metadata": {},
     "output_type": "execute_result"
    }
   ],
   "source": [
    "L = [4,5,6]\n",
    "X = L*4 #只是赋值了内容，Like [4,5,6]+[4,5,6]+...\n",
    "Y =[L]*4 #L在此重复中是嵌套的，[L]+[L]+...=[L,L,...]\n",
    "L[1]=0\n",
    "X \n",
    "Y #只改变了Y，没改变X"
   ]
  },
  {
   "cell_type": "code",
   "execution_count": 76,
   "metadata": {
    "collapsed": false
   },
   "outputs": [
    {
     "data": {
      "text/plain": [
       "['GRAIL', [...]]"
      ]
     },
     "execution_count": 76,
     "metadata": {},
     "output_type": "execute_result"
    }
   ],
   "source": [
    "L = ['GRAIL']\n",
    "L.append(L)\n",
    "L"
   ]
  },
  {
   "cell_type": "code",
   "execution_count": 24,
   "metadata": {
    "collapsed": false
   },
   "outputs": [
    {
     "data": {
      "text/plain": [
       "([[]], ['', [], (), {}, None])"
      ]
     },
     "execution_count": 24,
     "metadata": {},
     "output_type": "execute_result"
    }
   ],
   "source": [
    "'s'*5;#'spam'+'eggs' ,分号用作语句分隔符，将多条语句压缩成单独的一行\n",
    "'green %s and %s' % ('eggs','spam')\n",
    "'green {0} and {1}'.format('eggs','spam')\n",
    "('x',)[0]\n",
    "([1,2,3]+[4,5,6])[-2:]\n",
    "L=[1,2,3]+[4,5,6]\n",
    "[L[2],L[3]]\n",
    "L.reverse();L\n",
    "L.sort();L\n",
    "L.index(4)\n",
    "D={'a':1,'b':2,'c':5}\n",
    "D['a']+D['c']\n",
    "D[(1,2,3)]=6\n",
    "list(D.keys()),list(D.values()),(1,2,3) in D\n",
    "[[]],['',[],(),{},None]"
   ]
  },
  {
   "cell_type": "code",
   "execution_count": 35,
   "metadata": {
    "collapsed": false
   },
   "outputs": [
    {
     "data": {
      "text/plain": [
       "[1, 2, '$', 3, 4]"
      ]
     },
     "execution_count": 35,
     "metadata": {},
     "output_type": "execute_result"
    }
   ],
   "source": [
    "L=[1,2,3,4]\n",
    "L[-10:-9],L[3:4] # 分片运算超出边界会出现[]，而索引超过边界则报错\n",
    "L[2:0]=['$']\n",
    "L"
   ]
  },
  {
   "cell_type": "code",
   "execution_count": 44,
   "metadata": {
    "collapsed": false,
    "scrolled": true
   },
   "outputs": [
    {
     "data": {
      "text/plain": [
       "[1, 'A']"
      ]
     },
     "execution_count": 44,
     "metadata": {},
     "output_type": "execute_result"
    }
   ],
   "source": [
    "L=[1,2,3,4]\n",
    "L[2]=[];L  #[1, 2, [], 4]\n",
    "L[1:3]=[];L #[1,4]\n",
    "L=[1,2,3,4,5]\n",
    "L[1:3]='A';L  #[1, 'A', 4, 5]\n",
    "del L[2:];L #[1, 'A']"
   ]
  },
  {
   "cell_type": "code",
   "execution_count": 45,
   "metadata": {
    "collapsed": false
   },
   "outputs": [
    {
     "data": {
      "text/plain": [
       "('EGGS', 'SPAM')"
      ]
     },
     "execution_count": 45,
     "metadata": {},
     "output_type": "execute_result"
    }
   ],
   "source": [
    "X = 'SPAM'; Y='EGGS'\n",
    "X,Y=Y,X\n",
    "X,Y"
   ]
  },
  {
   "cell_type": "code",
   "execution_count": 48,
   "metadata": {
    "collapsed": false
   },
   "outputs": [
    {
     "data": {
      "text/plain": [
       "{'D': 3, 'a': 1, 'b': 2, 'c': 5}"
      ]
     },
     "execution_count": 48,
     "metadata": {},
     "output_type": "execute_result"
    }
   ],
   "source": [
    "D={'a':1,'b':2,'c':5}\n",
    "# D['D']  # KeyError\n",
    "D['D']=3;D"
   ]
  },
  {
   "cell_type": "code",
   "execution_count": 59,
   "metadata": {
    "collapsed": false
   },
   "outputs": [
    {
     "data": {
      "text/plain": [
       "'s'"
      ]
     },
     "execution_count": 59,
     "metadata": {},
     "output_type": "execute_result"
    }
   ],
   "source": [
    "# [1,2,3]+'spam' #TypeError\n",
    "#[1,2,3]+(1,2,3) #TypeError\n",
    "#{'a':1,'b':2}+'spam' #TypeError\n",
    "S='spam'\n",
    "S[0][0][0] #'s'\n",
    "'S'[0][0] #'S'\n",
    "L=['s','p','a','m']\n",
    "L[0][0][0]"
   ]
  },
  {
   "cell_type": "code",
   "execution_count": 60,
   "metadata": {
    "collapsed": false
   },
   "outputs": [
    {
     "data": {
      "text/plain": [
       "'slam'"
      ]
     },
     "execution_count": 60,
     "metadata": {},
     "output_type": "execute_result"
    }
   ],
   "source": [
    "S='spam'\n",
    "S[0]+'l'+S[2:] #slam"
   ]
  },
  {
   "cell_type": "code",
   "execution_count": 64,
   "metadata": {
    "collapsed": false
   },
   "outputs": [
    {
     "name": "stdout",
     "output_type": "stream",
     "text": [
      "Hello file world!\n",
      "yes\n"
     ]
    }
   ],
   "source": [
    "F = open(r'D:\\Cgoole\\myfile.txt','w')\n",
    "F.write('Hello file world!\\n')\n",
    "F.write('yes')\n",
    "F.close()\n",
    "F = open(r'D:\\Cgoole\\myfile.txt','r')\n",
    "print F.read()"
   ]
  },
  {
   "cell_type": "code",
   "execution_count": null,
   "metadata": {
    "collapsed": true
   },
   "outputs": [],
   "source": []
  }
 ],
 "metadata": {
  "kernelspec": {
   "display_name": "Python 2",
   "language": "python",
   "name": "python2"
  },
  "language_info": {
   "codemirror_mode": {
    "name": "ipython",
    "version": 2
   },
   "file_extension": ".py",
   "mimetype": "text/x-python",
   "name": "python",
   "nbconvert_exporter": "python",
   "pygments_lexer": "ipython2",
   "version": "2.7.9"
  }
 },
 "nbformat": 4,
 "nbformat_minor": 0
}
