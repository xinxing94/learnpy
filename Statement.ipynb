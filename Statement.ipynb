{
 "cells": [
  {
   "cell_type": "markdown",
   "metadata": {},
   "source": [
    "通过组合语句，可以指定一个过程，告诉程序要做哪些事情\n",
    "对象-》表达式-》语句-》模块-》程序\n",
    "Python语句举隅：\n",
    "语句         角色       例子\n",
    "赋值       创建引用值    a,b='a','b'\n",
    "调用       执行函数     log.write('spam')\n",
    "if/elif/else  选择动作     if 'py' in text:\n",
    "                      print text\n",
    "for/else     序列迭代    for x in mylist:\n",
    "                      print x\n",
    "def        函数与方法   def f(a,b,c=1):\n",
    "return      函数结果       return a+b+c\n",
    "yield      生成器函数    def gen(n):\n",
    "                      for i in n : yield i*2\n",
    "import      模块访问     import sys\n",
    "from       属性访问     form sys import stdin\n",
    "class      创建对象      class Subclass(Superclass):\n",
    "                      staticData = []\n",
    "                      def method(self): pass\n",
    "try/except/finally  捕捉异常 try:\n",
    "                      action()\n",
    "                    except:\n",
    "                      print('action error!)\n",
    "raise       触发异常     raise EndSearch(location)\n",
    "assert      调试检查     assert X>Y, 'X too small'\n",
    "del        删除引用     del data[k]; del obj.attr; del variable"
   ]
  },
  {
   "cell_type": "code",
   "execution_count": 3,
   "metadata": {
    "collapsed": false
   },
   "outputs": [
    {
     "data": {
      "text/plain": [
       "<generator object gen at 0x031AC378>"
      ]
     },
     "execution_count": 3,
     "metadata": {},
     "output_type": "execute_result"
    }
   ],
   "source": [
    "def gen(n):\n",
    "    for i in n : \n",
    "        yield i*2"
   ]
  },
  {
   "cell_type": "code",
   "execution_count": null,
   "metadata": {
    "collapsed": true
   },
   "outputs": [],
   "source": []
  }
 ],
 "metadata": {
  "kernelspec": {
   "display_name": "Python 2",
   "language": "python",
   "name": "python2"
  },
  "language_info": {
   "codemirror_mode": {
    "name": "ipython",
    "version": 2
   },
   "file_extension": ".py",
   "mimetype": "text/x-python",
   "name": "python",
   "nbconvert_exporter": "python",
   "pygments_lexer": "ipython2",
   "version": "2.7.9"
  }
 },
 "nbformat": 4,
 "nbformat_minor": 0
}
